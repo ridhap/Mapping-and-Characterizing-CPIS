{
 "cells": [
  {
   "cell_type": "code",
   "execution_count": 1,
   "id": "5e37535d",
   "metadata": {
    "execution": {
     "iopub.execute_input": "2023-12-17T11:03:59.383388Z",
     "iopub.status.busy": "2023-12-17T11:03:59.382626Z",
     "iopub.status.idle": "2023-12-17T11:03:59.394398Z",
     "shell.execute_reply": "2023-12-17T11:03:59.393509Z"
    },
    "papermill": {
     "duration": 0.020595,
     "end_time": "2023-12-17T11:03:59.396326",
     "exception": false,
     "start_time": "2023-12-17T11:03:59.375731",
     "status": "completed"
    },
    "tags": []
   },
   "outputs": [],
   "source": [
    "import os\n",
    "\n",
    "import zipfile\n",
    "import shutil\n",
    "\n",
    "DATASET_DIR = '/home/ridha/Documents/Capstone/data/dataset/'\n",
    "WORKING_DIR = '/home/ridha/Documents/Capstone/data/dataset/'"
   ]
  },
  {
   "cell_type": "code",
   "execution_count": 2,
   "id": "01a77462",
   "metadata": {
    "execution": {
     "iopub.execute_input": "2023-12-17T11:03:59.407463Z",
     "iopub.status.busy": "2023-12-17T11:03:59.407168Z",
     "iopub.status.idle": "2023-12-17T11:04:08.135951Z",
     "shell.execute_reply": "2023-12-17T11:04:08.134994Z"
    },
    "papermill": {
     "duration": 8.736683,
     "end_time": "2023-12-17T11:04:08.138192",
     "exception": false,
     "start_time": "2023-12-17T11:03:59.401509",
     "status": "completed"
    },
    "tags": []
   },
   "outputs": [],
   "source": [
    "if len(os.listdir(WORKING_DIR)) <= 1:\n",
    "\n",
    "#     with zipfile.ZipFile(DATASET_DIR + 'train.zip', 'r') as zip_file:\n",
    "#         zip_file.extractall(WORKING_DIR)\n",
    "\n",
    "#     with zipfile.ZipFile(DATASET_DIR + 'train_masks.zip', 'r') as zip_file:\n",
    "#         zip_file.extractall(WORKING_DIR)\n",
    "    \n",
    "#     print(\n",
    "#         len(os.listdir(WORKING_DIR + 'train')),\n",
    "#         len(os.listdir(WORKING_DIR + 'train_masks'))\n",
    "#     )\n",
    "\n",
    "    train_dir = WORKING_DIR + 'train_images/'\n",
    "    val_dir = WORKING_DIR + 'val_images/'\n",
    "    # os.mkdir(val_dir)\n",
    "    # for file in sorted(os.listdir(train_dir))[4600:]:\n",
    "    #   shutil.move(train_dir + file, val_dir)\n",
    "\n",
    "    masks_dir = WORKING_DIR + 'train_masks/'\n",
    "    val_masks_dir = WORKING_DIR + 'val_masks/'\n",
    "    # os.mkdir(val_masks_dir)\n",
    "    # for file in sorted(os.listdir(masks_dir))[4600:]:\n",
    "    #   shutil.move(masks_dir + file, val_masks_dir)\n",
    "    \n",
    "    os.mkdir(WORKING_DIR + 'saved_images')"
   ]
  },
  {
   "cell_type": "code",
   "execution_count": 3,
   "id": "3a32560e",
   "metadata": {
    "execution": {
     "iopub.execute_input": "2023-12-17T11:04:08.149843Z",
     "iopub.status.busy": "2023-12-17T11:04:08.149551Z",
     "iopub.status.idle": "2023-12-17T11:04:08.160610Z",
     "shell.execute_reply": "2023-12-17T11:04:08.159781Z"
    },
    "papermill": {
     "duration": 0.019147,
     "end_time": "2023-12-17T11:04:08.162558",
     "exception": false,
     "start_time": "2023-12-17T11:04:08.143411",
     "status": "completed"
    },
    "tags": []
   },
   "outputs": [
    {
     "data": {
      "text/plain": [
       "['1.png',\n",
       " '10.png',\n",
       " '100.png',\n",
       " '1000.png',\n",
       " '1001.png',\n",
       " '1002.png',\n",
       " '1003.png',\n",
       " '1004.png',\n",
       " '1005.png',\n",
       " '1006.png']"
      ]
     },
     "execution_count": 3,
     "metadata": {},
     "output_type": "execute_result"
    }
   ],
   "source": [
    "sorted(os.listdir(WORKING_DIR + 'train_images'))[:10]"
   ]
  },
  {
   "cell_type": "code",
   "execution_count": 4,
   "id": "d53e7089",
   "metadata": {
    "execution": {
     "iopub.execute_input": "2023-12-17T11:04:08.174208Z",
     "iopub.status.busy": "2023-12-17T11:04:08.173685Z",
     "iopub.status.idle": "2023-12-17T11:04:08.183256Z",
     "shell.execute_reply": "2023-12-17T11:04:08.182371Z"
    },
    "papermill": {
     "duration": 0.017612,
     "end_time": "2023-12-17T11:04:08.185261",
     "exception": false,
     "start_time": "2023-12-17T11:04:08.167649",
     "status": "completed"
    },
    "tags": []
   },
   "outputs": [
    {
     "data": {
      "text/plain": [
       "['1.png',\n",
       " '10.png',\n",
       " '100.png',\n",
       " '1000.png',\n",
       " '1001.png',\n",
       " '1002.png',\n",
       " '1003.png',\n",
       " '1004.png',\n",
       " '1005.png',\n",
       " '1006.png']"
      ]
     },
     "execution_count": 4,
     "metadata": {},
     "output_type": "execute_result"
    }
   ],
   "source": [
    "sorted(os.listdir(WORKING_DIR + 'train_masks'))[:10]"
   ]
  },
  {
   "cell_type": "code",
   "execution_count": 5,
   "id": "705a4d29",
   "metadata": {
    "_cell_guid": "b1076dfc-b9ad-4769-8c92-a6c4dae69d19",
    "_uuid": "8f2839f25d086af736a60e9eeb907d3b93b6e0e5",
    "execution": {
     "iopub.execute_input": "2023-12-17T11:04:08.197277Z",
     "iopub.status.busy": "2023-12-17T11:04:08.196743Z",
     "iopub.status.idle": "2023-12-17T11:04:11.568441Z",
     "shell.execute_reply": "2023-12-17T11:04:11.567650Z"
    },
    "papermill": {
     "duration": 3.38019,
     "end_time": "2023-12-17T11:04:11.570782",
     "exception": false,
     "start_time": "2023-12-17T11:04:08.190592",
     "status": "completed"
    },
    "tags": []
   },
   "outputs": [
    {
     "name": "stderr",
     "output_type": "stream",
     "text": [
      "/home/ridha/miniconda3/envs/env_r/lib/python3.7/site-packages/tqdm/auto.py:21: TqdmWarning: IProgress not found. Please update jupyter and ipywidgets. See https://ipywidgets.readthedocs.io/en/stable/user_install.html\n",
      "  from .autonotebook import tqdm as notebook_tqdm\n"
     ]
    }
   ],
   "source": [
    "import os\n",
    "from PIL import Image\n",
    "from torch.utils.data import Dataset\n",
    "import numpy as np\n",
    "\n",
    "class CarvanaDataset(Dataset):\n",
    "    def __init__(self, image_dir, mask_dir, transform=None):\n",
    "        self.image_dir = image_dir\n",
    "        self.mask_dir = mask_dir\n",
    "        self.transform = transform\n",
    "        self.images = os.listdir(image_dir)\n",
    "\n",
    "    def __len__(self):\n",
    "        return len(self.images)\n",
    "\n",
    "    def __getitem__(self, index):\n",
    "        img_path = os.path.join(self.image_dir, self.images[index])\n",
    "        mask_path = os.path.join(self.mask_dir, self.images[index].replace('.png', '_mask.gif'))\n",
    "        image = np.array(Image.open(img_path).convert('RGB'))\n",
    "        mask = np.array(Image.open(mask_path).convert('L'), dtype=np.float32)\n",
    "        mask[mask == 255.0] = 1.0\n",
    "\n",
    "        if self.transform is not None:\n",
    "            augmentations = self.transform(image=image, mask=mask)\n",
    "            image = augmentations['image']\n",
    "            mask = augmentations['mask']\n",
    "\n",
    "        return image, mask"
   ]
  },
  {
   "cell_type": "code",
   "execution_count": null,
   "id": "b59e82d2",
   "metadata": {
    "execution": {
     "iopub.execute_input": "2023-12-17T11:04:11.583268Z",
     "iopub.status.busy": "2023-12-17T11:04:11.582862Z",
     "iopub.status.idle": "2023-12-17T11:04:13.147179Z",
     "shell.execute_reply": "2023-12-17T11:04:13.146254Z"
    },
    "papermill": {
     "duration": 1.573298,
     "end_time": "2023-12-17T11:04:13.149780",
     "exception": false,
     "start_time": "2023-12-17T11:04:11.576482",
     "status": "completed"
    },
    "tags": []
   },
   "outputs": [],
   "source": [
    "import torch\n",
    "import torch.nn as nn\n",
    "import torchvision.transforms.functional as TF\n",
    "\n",
    "class DoubleConv(nn.Module):\n",
    "    def __init__(self, in_channels, out_channels):\n",
    "        super(DoubleConv, self).__init__()\n",
    "        self.conv = nn.Sequential(\n",
    "            nn.Conv2d(in_channels, out_channels, kernel_size=3, stride=1, padding=1, bias=False),\n",
    "            nn.BatchNorm2d(out_channels),\n",
    "            nn.ReLU(inplace=True),\n",
    "            nn.Conv2d(out_channels, out_channels, kernel_size=3, stride=1, padding=1, bias=False),\n",
    "            nn.BatchNorm2d(out_channels),\n",
    "            nn.ReLU(inplace=True),\n",
    "        )\n",
    "\n",
    "    def forward(self, x):\n",
    "        return self.conv(x)\n",
    "    \n",
    "class UNET(nn.Module):\n",
    "    def __init__(self, in_channels=3, out_channels=1, features=[64,128,256,512]):\n",
    "        super(UNET, self).__init__()\n",
    "        self.downs = nn.ModuleList()\n",
    "        self.ups = nn.ModuleList()\n",
    "        self.pool = nn.MaxPool2d(kernel_size=2, stride=2)\n",
    "\n",
    "        # Down part of UNET\n",
    "        for feature in features:\n",
    "            self.downs.append(DoubleConv(in_channels, feature))\n",
    "            in_channels = feature\n",
    "\n",
    "        # Up part of UNET\n",
    "        for feature in reversed(features):\n",
    "            self.ups.append(\n",
    "                nn.ConvTranspose2d(\n",
    "                    feature*2, feature, kernel_size=2, stride=2,\n",
    "                )\n",
    "            )\n",
    "            self.ups.append(DoubleConv(feature*2,feature))\n",
    "\n",
    "        self.bottleneck = DoubleConv(features[-1], features[-1]*2)\n",
    "        self.final_conv = nn.Conv2d(features[0], 1, kernel_size=1)\n",
    "\n",
    "    def forward(self, x):\n",
    "        skip_connections = []\n",
    "\n",
    "        for down in self.downs:\n",
    "            x = down(x)\n",
    "            skip_connections.append(x)\n",
    "            x = self.pool(x)\n",
    "\n",
    "        x = self.bottleneck(x)\n",
    "        skip_connections = skip_connections[::-1]\n",
    "\n",
    "        for idx in range(0, len(self.ups), 2):\n",
    "            x = self.ups[idx](x)\n",
    "            skip_connection = skip_connections[idx//2]\n",
    "\n",
    "            if x.shape != skip_connection.shape:\n",
    "                x = TF.resize(x, size=skip_connection.shape[2:], antialias=None)\n",
    "\n",
    "            concat_skip = torch.cat((skip_connection, x), dim=1)\n",
    "            x = self.ups[idx+1](concat_skip)\n",
    "\n",
    "        return self.final_conv(x)\n",
    "    \n",
    "def test():\n",
    "    x = torch.randn((3, 1, 161, 161))\n",
    "    model = UNET(1, 1)\n",
    "    preds = model(x)\n",
    "    print(preds.shape)\n",
    "    print(x.shape)\n",
    "\n",
    "    assert preds.shape == x.shape\n",
    "\n",
    "if __name__ == \"__main__\":\n",
    "    test()"
   ]
  },
  {
   "cell_type": "code",
   "execution_count": null,
   "id": "cb5c0883",
   "metadata": {
    "execution": {
     "iopub.execute_input": "2023-12-17T11:04:13.165212Z",
     "iopub.status.busy": "2023-12-17T11:04:13.164846Z",
     "iopub.status.idle": "2023-12-17T11:04:13.178360Z",
     "shell.execute_reply": "2023-12-17T11:04:13.177482Z"
    },
    "papermill": {
     "duration": 0.024454,
     "end_time": "2023-12-17T11:04:13.180327",
     "exception": false,
     "start_time": "2023-12-17T11:04:13.155873",
     "status": "completed"
    },
    "tags": []
   },
   "outputs": [],
   "source": [
    "import torch\n",
    "import torchvision\n",
    "# from dataset import CarvanaDataset\n",
    "from torch.utils.data import DataLoader\n",
    "\n",
    "def save_checkpoint(state, filename='my_checkpoint.pth.tar'):\n",
    "    print('=> Saving checkpoint')\n",
    "    torch.save(state, filename)\n",
    "\n",
    "def load_checkpoint(checkpoint, model):\n",
    "    print('=> Loading checkpoint')\n",
    "    model.load_state_dict(checkpoint['state_dict'])\n",
    "\n",
    "def get_loaders(\n",
    "    train_dir,\n",
    "    train_maskdir,\n",
    "    val_dir,\n",
    "    val_maskdir,\n",
    "    batch_size,\n",
    "    train_transform,\n",
    "    val_transform,\n",
    "    num_workers=4,\n",
    "    pin_memory=True,\n",
    "):\n",
    "    train_ds = CarvanaDataset(\n",
    "        image_dir=train_dir,\n",
    "        mask_dir=train_maskdir,\n",
    "        transform=train_transform\n",
    "    )\n",
    "\n",
    "    train_loader = DataLoader(\n",
    "        train_ds,\n",
    "        batch_size=batch_size,\n",
    "        num_workers=num_workers,\n",
    "        pin_memory=pin_memory,\n",
    "        shuffle=True\n",
    "    )\n",
    "\n",
    "    val_ds = CarvanaDataset(\n",
    "        image_dir=val_dir,\n",
    "        mask_dir=val_maskdir,\n",
    "        transform=val_transform\n",
    "    )\n",
    "    \n",
    "    val_loader = DataLoader(\n",
    "        val_ds,\n",
    "        batch_size=batch_size,\n",
    "        num_workers=num_workers,\n",
    "        pin_memory=pin_memory,\n",
    "        shuffle=False\n",
    "    )\n",
    "\n",
    "    return train_loader, val_loader\n",
    "\n",
    "def check_accuracy(loader, model, device='cuda'):\n",
    "    num_correct = 0\n",
    "    num_pixels = 0\n",
    "    dice_score = 0\n",
    "    model.eval()\n",
    "\n",
    "    with torch.no_grad():\n",
    "        for x, y in loader:\n",
    "            x = x.to(device)\n",
    "            y = y.to(device).unsqueeze(1)\n",
    "            preds = torch.sigmoid(model(x))\n",
    "            preds = (preds > 0.5).float()\n",
    "            num_correct += (preds == y).sum()\n",
    "            num_pixels += torch.numel(preds)\n",
    "            dice_score += (2 * (preds * y).sum()) / (\n",
    "                (preds + y).sum() + 1e-8\n",
    "            )\n",
    "\n",
    "    print(\n",
    "        f'Got {num_correct}/{num_pixels} with acc {num_correct/num_pixels*100:.2f}'\n",
    "    )\n",
    "    print(f'Dice score: {dice_score/len(loader)}')\n",
    "    model.train()\n",
    "\n",
    "def save_predictions_as_imgs(\n",
    "        loader, model, folder=WORKING_DIR+'saved_images', device='cuda'\n",
    "):\n",
    "    model.eval()\n",
    "    for idx, (x, y) in enumerate(loader):\n",
    "        x = x.to(device=device)\n",
    "        with torch.no_grad():\n",
    "            preds = torch.sigmoid(model(x))\n",
    "            preds = (preds > 0.5).float()\n",
    "        torchvision.utils.save_image(\n",
    "            preds, f'{folder}/pred_{idx}.png'\n",
    "        )\n",
    "        torchvision.utils.save_image(\n",
    "            y.unsqueeze(1), f'{folder}/truth_{idx}.png'\n",
    "        )"
   ]
  },
  {
   "cell_type": "code",
   "execution_count": null,
   "id": "51e9cf5b",
   "metadata": {
    "execution": {
     "iopub.execute_input": "2023-12-17T11:04:13.192709Z",
     "iopub.status.busy": "2023-12-17T11:04:13.192428Z",
     "iopub.status.idle": "2023-12-17T15:08:35.230721Z",
     "shell.execute_reply": "2023-12-17T15:08:35.229386Z"
    },
    "papermill": {
     "duration": 14662.048031,
     "end_time": "2023-12-17T15:08:35.233745",
     "exception": false,
     "start_time": "2023-12-17T11:04:13.185714",
     "status": "completed"
    },
    "tags": []
   },
   "outputs": [],
   "source": [
    "import torch\n",
    "import torch.nn as nn\n",
    "import torch.optim as optim\n",
    "import albumentations as A\n",
    "from albumentations.pytorch import ToTensorV2\n",
    "from tqdm import tqdm\n",
    "# from model import UNET\n",
    "# from utils import (\n",
    "#     load_checkpoint,\n",
    "#     save_checkpoint,\n",
    "#     get_loaders,\n",
    "#     check_accuracy,\n",
    "#     save_predictions_as_imgs,\n",
    "# )\n",
    "\n",
    "# Hyperparameters etc.\n",
    "LEARNING_RATE = 1e-4\n",
    "DEVICE = 'cuda' if torch.cuda.is_available() else 'cpu'\n",
    "BATCH_SIZE = 16\n",
    "NUM_EPOCHS = 50\n",
    "NUM_WORKERS = 2\n",
    "IMAGE_HEIGHT = 320\n",
    "IMAGE_WIDTH = 480\n",
    "PIN_MEMORY = True\n",
    "LOAD_MODEL = False\n",
    "TRAIN_IMG_DIR = '/kaggle/working/train/'\n",
    "TRAIN_MASK_DIR = '/kaggle/working/train_masks/'\n",
    "VAL_IMG_DIR = '/kaggle/working/val/'\n",
    "VAL_MASK_DIR = '/kaggle/working/val_masks/'\n",
    "\n",
    "def train_fn(loader, model, optimizer, loss_fn, scaler):\n",
    "    loop = tqdm(loader)\n",
    "\n",
    "    for batch_idx, (data, targets) in enumerate(loop):\n",
    "        data = data.to(device=DEVICE)\n",
    "        targets = targets.float().unsqueeze(1).to(device=DEVICE)\n",
    "\n",
    "        # forward\n",
    "        with torch.cuda.amp.autocast():\n",
    "            predictions = model(data)\n",
    "            loss = loss_fn(predictions, targets)\n",
    "\n",
    "        # backward\n",
    "        optimizer.zero_grad()\n",
    "        scaler.scale(loss).backward()\n",
    "        scaler.step(optimizer)\n",
    "        scaler.update()\n",
    "\n",
    "        # update tqdm loop\n",
    "        loop.set_postfix(loss=loss.item())\n",
    "\n",
    "def main():\n",
    "    train_transform = A.Compose(\n",
    "        [\n",
    "            A.Resize(height=IMAGE_HEIGHT, width=IMAGE_WIDTH),\n",
    "            A.Rotate(limit=35, p=1.0),\n",
    "            A.HorizontalFlip(p=0.5),\n",
    "            A.VerticalFlip(p=0.1),\n",
    "            A.Normalize(\n",
    "                mean=[0.0, 0.0, 0.0],\n",
    "                std=[1.0, 1.0, 1.0],\n",
    "                max_pixel_value=255.0,\n",
    "            ),\n",
    "            ToTensorV2(),\n",
    "        ]\n",
    "    )\n",
    "\n",
    "    val_transform = A.Compose(\n",
    "        [\n",
    "            A.Resize(height=IMAGE_HEIGHT, width=IMAGE_WIDTH),\n",
    "            A.Normalize(\n",
    "                mean=[0.0, 0.0, 0.0],\n",
    "                std=[1.0, 1.0, 1.0],\n",
    "                max_pixel_value=255.0,\n",
    "            ),\n",
    "            ToTensorV2(), \n",
    "        ]\n",
    "    )\n",
    "\n",
    "    model = UNET(in_channels=3, out_channels=1).to(DEVICE)\n",
    "    loss_fn = nn.BCEWithLogitsLoss()\n",
    "    optimizer = optim.Adam(model.parameters(), lr=LEARNING_RATE)\n",
    "\n",
    "    train_loader, val_loader = get_loaders(\n",
    "        TRAIN_IMG_DIR,\n",
    "        TRAIN_MASK_DIR,\n",
    "        VAL_IMG_DIR,\n",
    "        VAL_MASK_DIR,\n",
    "        BATCH_SIZE,\n",
    "        train_transform,\n",
    "        val_transform,\n",
    "        NUM_WORKERS,\n",
    "        PIN_MEMORY\n",
    "    )\n",
    "\n",
    "    if LOAD_MODEL:\n",
    "        load_checkpoint(torch.load('my_checkpoint.pth.tar'), model)\n",
    "        check_accuracy(val_loader, model, device=DEVICE)\n",
    "\n",
    "    scaler = torch.cuda.amp.GradScaler()\n",
    "\n",
    "    for epoch in range(NUM_EPOCHS):\n",
    "        train_fn(train_loader, model, optimizer, loss_fn, scaler)\n",
    "\n",
    "        # save model\n",
    "        checkpoint = {\n",
    "            'state_dict': model.state_dict(),\n",
    "            'optimizer': optimizer.state_dict(),\n",
    "        }\n",
    "        save_checkpoint(checkpoint)\n",
    "\n",
    "        # check accuracy\n",
    "        check_accuracy(val_loader, model, device=DEVICE)\n",
    "\n",
    "        # print some examples to a folder\n",
    "        save_predictions_as_imgs(\n",
    "            val_loader, model, folder=WORKING_DIR+'saved_images', device=DEVICE\n",
    "        )\n",
    "\n",
    "if __name__ == '__main__':\n",
    "    main()"
   ]
  },
  {
   "cell_type": "code",
   "execution_count": null,
   "id": "7b4d6195",
   "metadata": {
    "execution": {
     "iopub.execute_input": "2023-12-17T15:08:39.938501Z",
     "iopub.status.busy": "2023-12-17T15:08:39.937796Z",
     "iopub.status.idle": "2023-12-17T15:08:40.803822Z",
     "shell.execute_reply": "2023-12-17T15:08:40.802522Z"
    },
    "papermill": {
     "duration": 3.141976,
     "end_time": "2023-12-17T15:08:40.806132",
     "exception": false,
     "start_time": "2023-12-17T15:08:37.664156",
     "status": "completed"
    },
    "tags": []
   },
   "outputs": [],
   "source": [
    "import numpy as np\n",
    "import pandas as pd\n",
    "import time\n",
    "\n",
    "def rle_encode(img):\n",
    "    '''\n",
    "    img: numpy array, 1 - mask, 0 - background\n",
    "    Returns run length as string formated\n",
    "    '''\n",
    "    pixels = img.flatten()\n",
    "    pixels[0] = 0\n",
    "    pixels[-1] = 0\n",
    "    runs = np.where(pixels[1:] != pixels[:-1])[0] + 2\n",
    "    runs[1::2] -= runs[:-1:2]\n",
    "    \n",
    "    return ' '.join(str(x) for x in runs)"
   ]
  },
  {
   "cell_type": "code",
   "execution_count": null,
   "id": "06b6b832",
   "metadata": {
    "execution": {
     "iopub.execute_input": "2023-12-17T15:08:45.626788Z",
     "iopub.status.busy": "2023-12-17T15:08:45.626239Z",
     "iopub.status.idle": "2023-12-17T15:11:38.901668Z",
     "shell.execute_reply": "2023-12-17T15:11:38.900765Z"
    },
    "papermill": {
     "duration": 175.694502,
     "end_time": "2023-12-17T15:11:38.904096",
     "exception": false,
     "start_time": "2023-12-17T15:08:43.209594",
     "status": "completed"
    },
    "tags": []
   },
   "outputs": [],
   "source": [
    "if 'test' not in os.listdir(WORKING_DIR):\n",
    "    if os.path.isfile(WORKING_DIR + 'submission.csv'):\n",
    "        os.remove(WORKING_DIR + 'submission.csv')\n",
    "    with zipfile.ZipFile(DATASET_DIR + 'test.zip', 'r') as zip_file:\n",
    "        zip_file.extractall(WORKING_DIR)\n",
    "if 'test_images' not in os.listdir(WORKING_DIR):\n",
    "    os.mkdir(WORKING_DIR + 'test_images')"
   ]
  },
  {
   "cell_type": "code",
   "execution_count": null,
   "id": "fd756395",
   "metadata": {
    "execution": {
     "iopub.execute_input": "2023-12-17T15:11:43.583739Z",
     "iopub.status.busy": "2023-12-17T15:11:43.582827Z",
     "iopub.status.idle": "2023-12-17T16:19:24.763208Z",
     "shell.execute_reply": "2023-12-17T16:19:24.762065Z"
    },
    "papermill": {
     "duration": 4063.567144,
     "end_time": "2023-12-17T16:19:24.765703",
     "exception": false,
     "start_time": "2023-12-17T15:11:41.198559",
     "status": "completed"
    },
    "tags": []
   },
   "outputs": [],
   "source": [
    "TEST_DIR = WORKING_DIR + 'test'\n",
    "THRESHOLD = 0.5\n",
    "\n",
    "# Dataset\n",
    "class CarvanaTestDataset(Dataset):\n",
    "    def __init__(self, image_dir, transform=None):\n",
    "        self.image_dir = image_dir\n",
    "        self.transform = transform\n",
    "        self.images = sorted(os.listdir(image_dir))\n",
    "\n",
    "    def __len__(self):\n",
    "        return len(self.images)\n",
    "\n",
    "    def __getitem__(self, index):\n",
    "        img_name = self.images[index]\n",
    "        img_path = os.path.join(self.image_dir, self.images[index])\n",
    "        image = np.array(Image.open(img_path).convert('RGB'))\n",
    "\n",
    "        if self.transform is not None:\n",
    "            augmentations = self.transform(image=image)\n",
    "            image = augmentations['image']\n",
    "\n",
    "        return img_name, image\n",
    "\n",
    "\n",
    "test_transform = A.Compose(\n",
    "    [\n",
    "        A.Resize(height=IMAGE_HEIGHT, width=IMAGE_WIDTH),\n",
    "        A.Normalize(\n",
    "            mean=[0.0, 0.0, 0.0],\n",
    "            std=[1.0, 1.0, 1.0],\n",
    "            max_pixel_value=255.0,\n",
    "        ),\n",
    "        ToTensorV2(), \n",
    "    ]\n",
    ")\n",
    "   \n",
    "test_set = CarvanaTestDataset(\n",
    "    image_dir=TEST_DIR,\n",
    "    transform=test_transform\n",
    ")    \n",
    "\n",
    "\n",
    "test_loader = DataLoader(\n",
    "    test_set, batch_size=BATCH_SIZE, shuffle=False\n",
    ")\n",
    "    \n",
    "# Model\n",
    "checkpoint = torch.load(WORKING_DIR + 'my_checkpoint.pth.tar')\n",
    "\n",
    "model = UNET(in_channels=3, out_channels=1).to(DEVICE)\n",
    "model.load_state_dict(checkpoint['state_dict'])\n",
    "\n",
    "model.eval()\n",
    "\n",
    "# Predictions\n",
    "all_predictions = []\n",
    "for img_names, x in tqdm(test_loader):\n",
    "    x = x.to(DEVICE)\n",
    "    with torch.no_grad():\n",
    "        preds = torch.sigmoid(model(x))\n",
    "        preds = (preds > THRESHOLD).float()   \n",
    "    preds = TF.resize(\n",
    "        preds, size=(1280, 1918), interpolation=TF.InterpolationMode.NEAREST\n",
    "    )\n",
    "    \n",
    "    # Encoding\n",
    "    for idx in range(len(img_names)):\n",
    "        encoding = rle_encode(preds[idx].squeeze().cpu())\n",
    "        all_predictions.append([img_names[idx], encoding])"
   ]
  },
  {
   "cell_type": "code",
   "execution_count": null,
   "id": "3dd5055f",
   "metadata": {
    "execution": {
     "iopub.execute_input": "2023-12-17T16:19:30.556520Z",
     "iopub.status.busy": "2023-12-17T16:19:30.556105Z",
     "iopub.status.idle": "2023-12-17T16:19:34.998804Z",
     "shell.execute_reply": "2023-12-17T16:19:34.997927Z"
    },
    "papermill": {
     "duration": 7.261414,
     "end_time": "2023-12-17T16:19:35.002099",
     "exception": false,
     "start_time": "2023-12-17T16:19:27.740685",
     "status": "completed"
    },
    "tags": []
   },
   "outputs": [],
   "source": [
    "shutil.rmtree(WORKING_DIR + 'test')"
   ]
  },
  {
   "cell_type": "code",
   "execution_count": null,
   "id": "d7bfd467",
   "metadata": {
    "execution": {
     "iopub.execute_input": "2023-12-17T16:19:40.863772Z",
     "iopub.status.busy": "2023-12-17T16:19:40.863398Z",
     "iopub.status.idle": "2023-12-17T16:20:16.340077Z",
     "shell.execute_reply": "2023-12-17T16:20:16.339194Z"
    },
    "papermill": {
     "duration": 38.409453,
     "end_time": "2023-12-17T16:20:16.342716",
     "exception": false,
     "start_time": "2023-12-17T16:19:37.933263",
     "status": "completed"
    },
    "tags": []
   },
   "outputs": [],
   "source": [
    "# Submission\n",
    "sub = pd.DataFrame(all_predictions)\n",
    "sub.columns = ['img', 'rle_mask']\n",
    "sub.to_csv(os.path.join(WORKING_DIR, 'submission.csv'), index=False)"
   ]
  },
  {
   "cell_type": "code",
   "execution_count": null,
   "id": "ca2c1ca2",
   "metadata": {
    "execution": {
     "iopub.execute_input": "2023-12-17T16:20:22.151263Z",
     "iopub.status.busy": "2023-12-17T16:20:22.150878Z",
     "iopub.status.idle": "2023-12-17T16:20:22.157712Z",
     "shell.execute_reply": "2023-12-17T16:20:22.156827Z"
    },
    "papermill": {
     "duration": 2.949123,
     "end_time": "2023-12-17T16:20:22.159750",
     "exception": false,
     "start_time": "2023-12-17T16:20:19.210627",
     "status": "completed"
    },
    "tags": []
   },
   "outputs": [],
   "source": [
    "import os\n",
    "from IPython.display import FileLink\n",
    "\n",
    "os.chdir('/kaggle/working')\n",
    "FileLink('submission.csv')"
   ]
  },
  {
   "cell_type": "code",
   "execution_count": null,
   "id": "87087d9c",
   "metadata": {
    "papermill": {
     "duration": 2.914424,
     "end_time": "2023-12-17T16:20:28.073023",
     "exception": false,
     "start_time": "2023-12-17T16:20:25.158599",
     "status": "completed"
    },
    "tags": []
   },
   "outputs": [],
   "source": []
  }
 ],
 "metadata": {
  "kaggle": {
   "accelerator": "gpu",
   "dataSources": [
    {
     "databundleVersionId": 45059,
     "sourceId": 6927,
     "sourceType": "competition"
    }
   ],
   "dockerImageVersionId": 30627,
   "isGpuEnabled": true,
   "isInternetEnabled": true,
   "language": "python",
   "sourceType": "notebook"
  },
  "kernelspec": {
   "display_name": "env_r",
   "language": "python",
   "name": "env_r"
  },
  "language_info": {
   "codemirror_mode": {
    "name": "ipython",
    "version": 3
   },
   "file_extension": ".py",
   "mimetype": "text/x-python",
   "name": "python",
   "nbconvert_exporter": "python",
   "pygments_lexer": "ipython3",
   "version": "3.7.16"
  },
  "papermill": {
   "default_parameters": {},
   "duration": 18997.923437,
   "end_time": "2023-12-17T16:20:33.981455",
   "environment_variables": {},
   "exception": null,
   "input_path": "__notebook__.ipynb",
   "output_path": "__notebook__.ipynb",
   "parameters": {},
   "start_time": "2023-12-17T11:03:56.058018",
   "version": "2.4.0"
  }
 },
 "nbformat": 4,
 "nbformat_minor": 5
}
